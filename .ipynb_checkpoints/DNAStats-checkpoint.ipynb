{
 "cells": [
  {
   "cell_type": "markdown",
   "metadata": {},
   "source": [
    "# Project: DNAStats\n",
    "This program implements various Bioinformatics tools in a tutorial-style Jupyter Notebook."
   ]
  },
  {
   "cell_type": "markdown",
   "metadata": {},
   "source": [
    "## Background\n",
    "[INSERT TEXT]"
   ]
  },
  {
   "cell_type": "markdown",
   "metadata": {},
   "source": [
    "## Find the length of a DNA strand\n",
    "Given a sample DNA strand, calculate the number of nucleotides in the strand."
   ]
  },
  {
   "cell_type": "code",
   "execution_count": 1,
   "metadata": {},
   "outputs": [],
   "source": [
    "def DNA_length(input_strand):\n",
    "    # Initialize a counter used to keep track of the number of nucleotides in the strand\n",
    "    nucleotide_count = 0\n",
    "    \n",
    "    # Use a loop to iterate through the strand\n",
    "    for char in input_strand:\n",
    "        # for every nucleotide in the input strand, increment the counter\n",
    "        nucleotide_count += 1\n",
    "    \n",
    "    return nucleotide_count"
   ]
  },
  {
   "cell_type": "code",
   "execution_count": 2,
   "metadata": {},
   "outputs": [
    {
     "name": "stdout",
     "output_type": "stream",
     "text": [
      "This DNA strand consists of 70 nucleotides.\n"
     ]
    }
   ],
   "source": [
    "# Initialize a string that will serve as a DNA strand\n",
    "sample_dataset = 'AGCTTTTCATTCTGACTGCAACGGGCAATATGTCTCTGTGTGGATTAAAAAAAGAGTGTCTGATAGCAGC'\n",
    "\n",
    "# Call the function we created \n",
    "number_of_nucleotides = DNA_length(sample_dataset)\n",
    "print('This DNA strand consists of ' + str(number_of_nucleotides) + ' nucleotides.')"
   ]
  },
  {
   "cell_type": "markdown",
   "metadata": {},
   "source": [
    "## A Step Further: Calculate the number of 'A' 'T' 'G' 'C' occurences in the DNA strand\n",
    "A DNA strand is made up of four nucleotides: A, T, G, C. We are going to write a function that counts the number of occurences for these four symbols in a given DNA strand."
   ]
  },
  {
   "cell_type": "code",
   "execution_count": 3,
   "metadata": {},
   "outputs": [],
   "source": [
    "def individual_nucleotides(input_string):\n",
    "    # Initialize a dictionary to keep track of the counts for each symbol\n",
    "    nucleotide_dict = {'A': 0, 'T': 0, 'G': 0, 'C': 0}\n",
    "    \n",
    "    # Iterate through each symbol in the DNA strand\n",
    "    for char in input_string:\n",
    "        if char == 'A':\n",
    "            nucleotide_dict['A'] += 1\n",
    "            \n",
    "        if char == 'T':\n",
    "            nucleotide_dict['T'] += 1\n",
    "            \n",
    "        if char == 'G':\n",
    "            nucleotide_dict['G'] += 1\n",
    "            \n",
    "        if char == 'C':\n",
    "            nucleotide_dict['C'] += 1\n",
    "            \n",
    "    return nucleotide_dict"
   ]
  },
  {
   "cell_type": "code",
   "execution_count": 4,
   "metadata": {},
   "outputs": [
    {
     "name": "stdout",
     "output_type": "stream",
     "text": [
      "The DNA strand contains: \n",
      "A: 1\n",
      "T: 2\n",
      "G: 3\n",
      "C: 4\n"
     ]
    }
   ],
   "source": [
    "## TEST for individual_nucleotides\n",
    "\n",
    "# Initialize a string consisting of the acceptable nucleotides 'A', 'T', 'G', 'C'\n",
    "sample = 'ATTGGGCCCC'\n",
    "individual_count = individual_nucleotides(sample)\n",
    "\n",
    "# Format the output\n",
    "print('The DNA strand contains: \\n' + \n",
    "            'A: ' + str(individual_count['A']) +\n",
    "            '\\nT: ' + str(individual_count['T']) +\n",
    "            '\\nG: ' + str(individual_count['G']) +\n",
    "            '\\nC: ' + str(individual_count['C'] ))"
   ]
  },
  {
   "cell_type": "markdown",
   "metadata": {},
   "source": [
    "# The Central Dogma\n",
    "[BACKGROUND INFO]"
   ]
  },
  {
   "cell_type": "markdown",
   "metadata": {},
   "source": [
    "# Complementing a strand of DNA\n",
    "[BACKGROUND INFO]"
   ]
  },
  {
   "cell_type": "code",
   "execution_count": 5,
   "metadata": {},
   "outputs": [],
   "source": [
    "def complement(template_strand):\n",
    "    # Empty string to store the complement of the template strand\n",
    "    complement_strand = ''\n",
    "    \n",
    "    # For each nucleotide in the sequence, add its complement to a new string\n",
    "    for char in template_strand:\n",
    "        if char == 'A':\n",
    "            complement_strand += 'T'\n",
    "        elif char == 'T':\n",
    "            complement_strand += 'A'      \n",
    "            \n",
    "        elif char == 'G':\n",
    "            complement_strand += 'C'\n",
    "            \n",
    "        elif char == 'C':\n",
    "            complement_strand += 'G'\n",
    "            \n",
    "    return complement_strand"
   ]
  },
  {
   "cell_type": "code",
   "execution_count": 6,
   "metadata": {},
   "outputs": [
    {
     "name": "stdout",
     "output_type": "stream",
     "text": [
      "Template strand: '5' ATCTGACC 3'\n",
      "Complement strand: 3' TAGACTGG 5'\n"
     ]
    }
   ],
   "source": [
    "## TEST for  complement\n",
    "\n",
    "template_strand = 'ATCTGACC'\n",
    "complement_strand = complement(template_strand)\n",
    "\n",
    "print('Template strand: ' + \"'5' \" + template_strand + \" 3'\" + '\\nComplement strand: ' + \"3' \"+ complement_strand + \" 5'\")"
   ]
  },
  {
   "cell_type": "markdown",
   "metadata": {},
   "source": [
    "### Extra: Reverse Complement of a strand of DNA"
   ]
  },
  {
   "cell_type": "code",
   "execution_count": 7,
   "metadata": {},
   "outputs": [],
   "source": [
    "def reverse_complement(complement_strand):\n",
    "    reverse_output = ''\n",
    "    \n",
    "    length = len(complement_strand)\n",
    "    \n",
    "    while(length > 0):\n",
    "        reverse_output += complement_strand[length - 1]\n",
    "        length -= 1\n",
    "        \n",
    "    return reverse_output        "
   ]
  },
  {
   "cell_type": "code",
   "execution_count": 8,
   "metadata": {},
   "outputs": [
    {
     "name": "stdout",
     "output_type": "stream",
     "text": [
      "Template Strand: AAAACCCGGT\n",
      "Reverse Complement Strand: ACCGGGTTTT\n"
     ]
    }
   ],
   "source": [
    "## TEST for reverse_complement\n",
    "\n",
    "sample_dataset = 'AAAACCCGGT'\n",
    "comp = complement(sample_dataset)\n",
    "reverse_comp = reverse_complement(comp) \n",
    "\n",
    "# Reverse complement should be 'ACCGGGTTTT'\n",
    "assert reverse_comp == 'ACCGGGTTTT'\n",
    "print('Template Strand: ' + sample_dataset + '\\nReverse Complement Strand: ' + reverse_comp)"
   ]
  },
  {
   "cell_type": "markdown",
   "metadata": {},
   "source": [
    "# Transcribing a DNA template strand into RNA\n",
    "[BACKGROUND INFO]"
   ]
  },
  {
   "cell_type": "code",
   "execution_count": 9,
   "metadata": {},
   "outputs": [],
   "source": [
    "def transcribe(input_DNA):\n",
    "    \n",
    "    # Use the python function replace to replace instances of 'A' with 'U'\n",
    "    output_RNA = input_DNA.replace('A', 'U')\n",
    "    \n",
    "    return output_RNA"
   ]
  },
  {
   "cell_type": "code",
   "execution_count": 10,
   "metadata": {},
   "outputs": [
    {
     "name": "stdout",
     "output_type": "stream",
     "text": [
      "DNA strand: TTCCATA\n",
      "RNA strand: TTCCUTU\n"
     ]
    }
   ],
   "source": [
    "sample_DNA = 'TTCCATA'\n",
    "rna_strand = transcribe(sample_DNA)\n",
    "\n",
    "print('DNA strand: ' + sample_DNA + '\\nRNA strand: ' + rna_strand)"
   ]
  },
  {
   "cell_type": "markdown",
   "metadata": {},
   "source": [
    "# Translating RNA into Protein\n",
    "[BACKGROUND INFO]"
   ]
  },
  {
   "cell_type": "code",
   "execution_count": null,
   "metadata": {},
   "outputs": [],
   "source": []
  }
 ],
 "metadata": {
  "kernelspec": {
   "display_name": "Python 3",
   "language": "python",
   "name": "python3"
  },
  "language_info": {
   "codemirror_mode": {
    "name": "ipython",
    "version": 3
   },
   "file_extension": ".py",
   "mimetype": "text/x-python",
   "name": "python",
   "nbconvert_exporter": "python",
   "pygments_lexer": "ipython3",
   "version": "3.7.0"
  }
 },
 "nbformat": 4,
 "nbformat_minor": 2
}
