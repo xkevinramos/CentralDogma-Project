{
 "cells": [
  {
   "cell_type": "markdown",
   "metadata": {},
   "source": [
    "# Project: DNAStats\n",
    "This program implements various Bioinformatics tools in a tutorial-style Jupyter Notebook."
   ]
  },
  {
   "cell_type": "markdown",
   "metadata": {},
   "source": [
    "## Background\n",
    "[INSERT TEXT]"
   ]
  },
  {
   "cell_type": "markdown",
   "metadata": {},
   "source": [
    "## Find the length of a DNA strand\n",
    "Given a sample DNA strand, calculate the number of nucleotides in the strand."
   ]
  },
  {
   "cell_type": "code",
   "execution_count": 8,
   "metadata": {},
   "outputs": [],
   "source": [
    "def DNA_length(input_strand):\n",
    "    # Initialize a counter used to keep track of the number of nucleotides in the strand\n",
    "    nucleotide_count = 0\n",
    "    \n",
    "    # Use a loop to iterate through the strand\n",
    "    for char in input_strand:\n",
    "        # for every nucleotide in the input strand, increment the counter\n",
    "        nucleotide_count += 1\n",
    "    \n",
    "    return nucleotide_count"
   ]
  },
  {
   "cell_type": "code",
   "execution_count": 11,
   "metadata": {},
   "outputs": [
    {
     "name": "stdout",
     "output_type": "stream",
     "text": [
      "This DNA strand consists of 70 nucleotides.\n"
     ]
    }
   ],
   "source": [
    "# Initialize a string that will serve as a DNA strand\n",
    "sample_dataset = 'AGCTTTTCATTCTGACTGCAACGGGCAATATGTCTCTGTGTGGATTAAAAAAAGAGTGTCTGATAGCAGC'\n",
    "\n",
    "# Call the function we created \n",
    "number_of_nucleotides = DNA_length(sample_dataset)\n",
    "print('This DNA strand consists of ' + str(number_of_nucleotides) + ' nucleotides.')"
   ]
  },
  {
   "cell_type": "markdown",
   "metadata": {},
   "source": [
    "## A Step Further: Calculate the number of 'A' 'T' 'G' 'C' occurences in the DNA strand\n",
    "A DNA strand is made up of four nucleotides: A, T, G, C. We are going to write a function that counts the number of occurences for these four symbols in a given DNA strand."
   ]
  },
  {
   "cell_type": "code",
   "execution_count": 18,
   "metadata": {},
   "outputs": [],
   "source": [
    "def individual_nucleotides(input_string):\n",
    "    # Initialize a dictionary to keep track of the counts for each symbol\n",
    "    nucleotide_dict = {'A': 0, 'T': 0, 'G': 0, 'C': 0}\n",
    "    \n",
    "    # Iterate through each symbol in the DNA strand\n",
    "    for char in input_string:\n",
    "        if char == 'A':\n",
    "            nucleotide_dict['A'] += 1\n",
    "            \n",
    "        if char == 'T':\n",
    "            nucleotide_dict['T'] += 1\n",
    "            \n",
    "        if char == 'G':\n",
    "            nucleotide_dict['G'] += 1\n",
    "            \n",
    "        if char == 'C':\n",
    "            nucleotide_dict['C'] += 1\n",
    "            \n",
    "    return nucleotide_dict"
   ]
  },
  {
   "cell_type": "code",
   "execution_count": 29,
   "metadata": {},
   "outputs": [
    {
     "name": "stdout",
     "output_type": "stream",
     "text": [
      "The DNA strand contains: \n",
      "A: 1\n",
      "T: 2\n",
      "G: 3\n",
      "C: 4\n"
     ]
    }
   ],
   "source": [
    "## TEST for individual_nucleotides\n",
    "\n",
    "# Initialize a string consisting of the acceptable nucleotides 'A', 'T', 'G', 'C'\n",
    "sample = 'ATTGGGCCCC'\n",
    "individual_count = individual_nucleotides(sample)\n",
    "\n",
    "# Format the output\n",
    "print('The DNA strand contains: \\n' + \n",
    "            'A: ' + str(individual_count['A']) +\n",
    "            '\\nT: ' + str(individual_count['T']) +\n",
    "            '\\nG: ' + str(individual_count['G']) +\n",
    "            '\\nC: ' + str(individual_count['C'] ))"
   ]
  },
  {
   "cell_type": "markdown",
   "metadata": {},
   "source": [
    "# The Central Dogma"
   ]
  },
  {
   "cell_type": "markdown",
   "metadata": {},
   "source": [
    "# Complementing a strand of DNA\n",
    "[BACKGROUND]"
   ]
  },
  {
   "cell_type": "code",
   "execution_count": 114,
   "metadata": {},
   "outputs": [],
   "source": [
    "def complement(template_strand):\n",
    "    complement_strand = ''\n",
    "    \n",
    "    for char in template_strand:\n",
    "        if char == 'A':\n",
    "            complement_strand += 'T'\n",
    "        elif char == 'T':\n",
    "            complement_strand += 'A'      \n",
    "            \n",
    "        elif char == 'G':\n",
    "            complement_strand += 'C'\n",
    "            \n",
    "        elif char == 'C':\n",
    "            complement_strand += 'G'\n",
    "            \n",
    "    return complement_strand"
   ]
  },
  {
   "cell_type": "code",
   "execution_count": 115,
   "metadata": {},
   "outputs": [
    {
     "name": "stdout",
     "output_type": "stream",
     "text": [
      "Template strand: ATCTGACC\n",
      "Complement strand: TAGACTGG\n"
     ]
    }
   ],
   "source": [
    "## TEST for  complement\n",
    "\n",
    "template_strand = 'ATCTGACC'\n",
    "complement_strand = complement(template_strand)\n",
    "\n",
    "print('Template strand: ' + template_strand + '\\nComplement strand: ' + complement_strand)"
   ]
  },
  {
   "cell_type": "code",
   "execution_count": 116,
   "metadata": {},
   "outputs": [],
   "source": [
    "def reverse_complement(complement_strand):\n",
    "    reverse_output = ''\n",
    "    \n",
    "    length = len(complement_strand)\n",
    "    \n",
    "    while(length > 0):\n",
    "        reverse_output += complement_strand[length - 1]\n",
    "        length -= 1\n",
    "        \n",
    "    return reverse_output        "
   ]
  },
  {
   "cell_type": "code",
   "execution_count": 117,
   "metadata": {},
   "outputs": [
    {
     "name": "stdout",
     "output_type": "stream",
     "text": [
      "AAAACCCGGT\n",
      "ACCGGGTTTT\n"
     ]
    }
   ],
   "source": [
    "## TEST for reverse_complement\n",
    "\n",
    "sample_dataset = 'AAAACCCGGT'\n",
    "complement = complement(sample_dataset)\n",
    "reverse_complement = reverse_complement(complement) \n",
    "\n",
    "# Reverse complement should be 'ACCGGGTTTT'\n",
    "print(sample_dataset + '\\n' + reverse_complement)"
   ]
  },
  {
   "cell_type": "markdown",
   "metadata": {},
   "source": [
    "# Transcribing a DNA template strand into RNA\n",
    "[BACKGROUND INFO]"
   ]
  },
  {
   "cell_type": "code",
   "execution_count": 42,
   "metadata": {},
   "outputs": [],
   "source": [
    "def transcribe(input_DNA):\n",
    "    \n",
    "    # Use the python function replace to replace instances of 'A' with 'U'\n",
    "    output_RNA = input_DNA.replace('A', 'U')\n",
    "    \n",
    "    return output_RNA"
   ]
  },
  {
   "cell_type": "code",
   "execution_count": 41,
   "metadata": {},
   "outputs": [
    {
     "name": "stdout",
     "output_type": "stream",
     "text": [
      "DNA strand: TTCCATA\n",
      "RNA strand: TTCCUTU\n"
     ]
    }
   ],
   "source": [
    "sample_DNA = 'TTCCATA'\n",
    "rna_strand = transcribe(sample_DNA)\n",
    "\n",
    "print('DNA strand: ' + sample_DNA + '\\nRNA strand: ' + rna_strand)"
   ]
  }
 ],
 "metadata": {
  "kernelspec": {
   "display_name": "Python 3",
   "language": "python",
   "name": "python3"
  },
  "language_info": {
   "codemirror_mode": {
    "name": "ipython",
    "version": 3
   },
   "file_extension": ".py",
   "mimetype": "text/x-python",
   "name": "python",
   "nbconvert_exporter": "python",
   "pygments_lexer": "ipython3",
   "version": "3.7.0"
  }
 },
 "nbformat": 4,
 "nbformat_minor": 2
}
